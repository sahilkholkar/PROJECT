{
  "nbformat": 4,
  "nbformat_minor": 0,
  "metadata": {
    "colab": {
      "provenance": [],
      "mount_file_id": "1Jjua22ViNjHR72aP8Ey41-3NJ9fx84KY",
      "authorship_tag": "ABX9TyPtDImikt0+BuR+UQNxiX3D",
      "include_colab_link": true
    },
    "kernelspec": {
      "name": "python3",
      "display_name": "Python 3"
    },
    "language_info": {
      "name": "python"
    }
  },
  "cells": [
    {
      "cell_type": "markdown",
      "metadata": {
        "id": "view-in-github",
        "colab_type": "text"
      },
      "source": [
        "<a href=\"https://colab.research.google.com/github/sahilkholkar/PROJECT/blob/main/Anomaly_Detection_in_Surveillance.ipynb\" target=\"_parent\"><img src=\"https://colab.research.google.com/assets/colab-badge.svg\" alt=\"Open In Colab\"/></a>"
      ]
    },
    {
      "cell_type": "code",
      "execution_count": 2,
      "metadata": {
        "id": "g4UWNRVI-e8K"
      },
      "outputs": [],
      "source": [
        "# Define which actions are normal and which are anomalous\n",
        "NORMAL_CLASSES = ['walk', 'stand', 'sit', 'run']\n",
        "ANOMALY_CLASSES = ['struggle', 'throw', 'sneak', 'lying_down', 'hit', 'kick', 'gun', 'grab', 'fall']\n",
        "VIDEO_DIR = '/content/drive/MyDrive/Anomaly Detection in Surveillance/Videos'\n"
      ]
    },
    {
      "cell_type": "code",
      "source": [
        "import os\n",
        "import cv2\n",
        "\n",
        "def extract_frames(video_path, output_dir, label, max_frames=100):\n",
        "    os.makedirs(output_dir, exist_ok=True)\n",
        "    cap = cv2.VideoCapture(video_path)\n",
        "    count = 0\n",
        "    while cap.isOpened() and count < max_frames:\n",
        "        ret, frame = cap.read()\n",
        "        if not ret:\n",
        "            break\n",
        "        frame = cv2.resize(frame, (128, 128))\n",
        "        frame = cv2.cvtColor(frame, cv2.COLOR_BGR2GRAY)\n",
        "        filename = os.path.join(output_dir, f\"{label}_{count}.jpg\")\n",
        "        cv2.imwrite(filename, frame)\n",
        "        count += 1\n",
        "    cap.release()\n",
        "\n",
        "# Loop through all video folders and extract frames\n",
        "for folder in os.listdir(VIDEO_DIR):\n",
        "    full_folder_path = os.path.join(VIDEO_DIR, folder)\n",
        "    if os.path.isdir(full_folder_path):\n",
        "        label = folder.lower()\n",
        "        for file in os.listdir(full_folder_path):\n",
        "            if file.endswith('.mp4') or file.endswith('.avi'):\n",
        "                video_path = os.path.join(full_folder_path, file)\n",
        "                if label in NORMAL_CLASSES:\n",
        "                    extract_frames(video_path, 'data/train/normal', label)\n",
        "                    extract_frames(video_path, 'data/test/normal', label)\n",
        "                elif label in ANOMALY_CLASSES:\n",
        "                    extract_frames(video_path, 'data/test/anomaly', label)\n"
      ],
      "metadata": {
        "id": "zK4jCMVlBRun"
      },
      "execution_count": 3,
      "outputs": []
    },
    {
      "cell_type": "code",
      "source": [
        "from torch.utils.data import Dataset, DataLoader\n",
        "from torchvision import transforms\n",
        "from PIL import Image\n",
        "\n",
        "class FrameDataset(Dataset):\n",
        "    def __init__(self, folder):\n",
        "        self.folder = folder\n",
        "        self.files = [os.path.join(folder, f) for f in os.listdir(folder)]\n",
        "        self.transform = transforms.Compose([\n",
        "            transforms.ToTensor()\n",
        "        ])\n",
        "\n",
        "    def __len__(self):\n",
        "        return len(self.files)\n",
        "\n",
        "    def __getitem__(self, idx):\n",
        "        img = Image.open(self.files[idx])\n",
        "        return self.transform(img)\n"
      ],
      "metadata": {
        "id": "oCvEITdFBjoM"
      },
      "execution_count": 4,
      "outputs": []
    },
    {
      "cell_type": "code",
      "source": [],
      "metadata": {
        "id": "H4OYVnaiBstr"
      },
      "execution_count": null,
      "outputs": []
    }
  ]
}